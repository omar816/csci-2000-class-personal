{
 "cells": [
  {
   "cell_type": "markdown",
   "metadata": {},
   "source": [
    "# `Matplotlib` Animation Tutorial\n",
    "For quite a long time, animation in `matplotlib` was not an easy task and was done mainly through clever hacks. However, things have started to change since version 1.1 and the introduction of tools for creating animation very intuitively, with the possibility to save them in all kind of formats (but don't expect to be able to run very complex animation at 60 fps though).\n",
    "## 1. Basic Animation\n",
    "The animation tools center around the `matplotlib.animation.Animation` base class, which provides a framework around which the animation functionality is built. The main interfaces are `TimedAnimation` and `FuncAnimation`, which you can read more about in the [documentation](http://matplotlib.org/api/animation_api.html). The most useful way of the two is `FuncAnimation` object that specifies to `matplotlib` what is the figure to update, what is the update function and what is the delay between frames."
   ]
  },
  {
   "cell_type": "markdown",
   "metadata": {},
   "source": [
    "## 2. Setup\n",
    "\n",
    "### 2.1. Installing `JSAnimation`\n",
    "In order to display animations on the web page, we need JSAnimation module to be installed. If you haven't done that yet, follow the following steps:\n",
    "\n",
    "1. Pull the most recent version of the class csci-2000-class-resources repository from GitHub.\n",
    "2. Go to csci-2000-class-resources directory.\n",
    "3. Copy the `JSAnimation` module to your `Anaconda` distribution by running the following command:\n",
    "```bash\n",
    "$ cp -rf csci-2000-class-resources/game_of_life/JSAnimation ~/anaconda3/lib/python3.4/site-packages/\n",
    "```\n",
    "\n",
    "### 2.2. Making `matplotlib` Inline\n",
    "We need to make `matplotlib` inline in order to embed plots into the web page:"
   ]
  },
  {
   "cell_type": "code",
   "execution_count": 12,
   "metadata": {
    "collapsed": false
   },
   "outputs": [
    {
     "name": "stdout",
     "output_type": "stream",
     "text": [
      "Populating the interactive namespace from numpy and matplotlib\n"
     ]
    }
   ],
   "source": [
    "%pylab inline"
   ]
  },
  {
   "cell_type": "markdown",
   "metadata": {},
   "source": [
    "### 2.3. Importing Necessary Modules\n",
    "We also import `numpy`, `pyplot`, `animation` and `JSAnimation` once to prevent redundancy for the rest of the tutorial:"
   ]
  },
  {
   "cell_type": "code",
   "execution_count": 4,
   "metadata": {
    "collapsed": false
   },
   "outputs": [],
   "source": [
    "import numpy as np\n",
    "import matplotlib.pyplot as plt\n",
    "import matplotlib.animation as animation\n",
    "#from JSAnimation.IPython_display import display_animation"
   ]
  },
  {
   "cell_type": "markdown",
   "metadata": {},
   "source": [
    "## 3. Moving Sine Wave\n",
    "First we'll use `FuncAnimation` to do a basic animation of a sine wave moving across the screen:"
   ]
  },
  {
   "cell_type": "code",
   "execution_count": 9,
   "metadata": {
    "collapsed": false
   },
   "outputs": [
    {
     "ename": "NameError",
     "evalue": "name 'display_animation' is not defined",
     "output_type": "error",
     "traceback": [
      "\u001b[1;31m---------------------------------------------------------------------------\u001b[0m",
      "\u001b[1;31mNameError\u001b[0m                                 Traceback (most recent call last)",
      "\u001b[1;32m<ipython-input-9-d600d6dea201>\u001b[0m in \u001b[0;36m<module>\u001b[1;34m()\u001b[0m\n\u001b[0;32m     29\u001b[0m anim = animation.FuncAnimation(fig, animate, init_func=init,\n\u001b[0;32m     30\u001b[0m                                frames=200, interval=20, blit=True)\n\u001b[1;32m---> 31\u001b[1;33m \u001b[0mdisplay_animation\u001b[0m\u001b[1;33m(\u001b[0m\u001b[0manim\u001b[0m\u001b[1;33m)\u001b[0m\u001b[1;33m\u001b[0m\u001b[0m\n\u001b[0m",
      "\u001b[1;31mNameError\u001b[0m: name 'display_animation' is not defined"
     ]
    }
   ],
   "source": [
    "\"\"\"\n",
    "Matplotlib Animation Example\n",
    "\n",
    "author: Jake Vanderplas\n",
    "email: vanderplas@astro.washington.edu\n",
    "website: http://jakevdp.github.com\n",
    "license: BSD\n",
    "Please feel free to use and modify this, but keep the above information. Thanks!\n",
    "\"\"\"\n",
    "\n",
    "# First set up the figure, the axis, and the plot element we want to animate\n",
    "fig = plt.figure()\n",
    "ax = plt.axes(xlim=(0, 2), ylim=(-2, 2))\n",
    "line, = ax.plot([], [], lw=2)\n",
    "\n",
    "# initialization function: plot the background of each frame\n",
    "def init():\n",
    "    line.set_data([], [])\n",
    "    return line,\n",
    "\n",
    "# animation function.  This is called sequentially\n",
    "def animate(i):\n",
    "    x = np.linspace(0, 2, 1000)\n",
    "    y = np.sin(2 * np.pi * (x - 0.01 * i))\n",
    "    line.set_data(x, y)\n",
    "    return line,\n",
    "\n",
    "# call the animator.  blit=True means only re-draw the parts that have changed.\n",
    "anim = animation.FuncAnimation(fig, animate, init_func=init,\n",
    "                               frames=200, interval=20, blit=True)\n",
    "display_animation(anim)"
   ]
  },
  {
   "cell_type": "markdown",
   "metadata": {},
   "source": [
    "Let's step through this and see what's going on. First, the script sets up the plot:\n",
    "```python\n",
    "fig = plt.figure()\n",
    "ax = plt.axes(xlim=(0, 2), ylim=(-2, 2))\n",
    "line, = ax.plot([], [], lw=2)\n",
    "```\n",
    "Here we create a figure window, create a single axis in the figure, and then create our line object which will be modified in the animation. Note that here we simply plot an empty line: we'll add data to the line later.\n",
    "\n",
    "Next we'll create the functions which make the animation happen.  `init()` is the function which will be called to create the base frame upon which the animation takes place. Here we use just a simple function which sets the line data to nothing. It is important that this function return the line object, because this tells the animator which objects on the plot to update after each frame:\n",
    "```python\n",
    "def init():\n",
    "    line.set_data([], [])\n",
    "    return line,\n",
    "```\n",
    "The next piece is the animation function. It takes a single parameter, the frame number `i`, and draws a sine wave with a shift that depends on `i`:\n",
    "```python\n",
    "# animation function.  This is called sequentially\n",
    "def animate(i):\n",
    "    x = np.linspace(0, 2, 1000)\n",
    "    y = np.sin(2 * np.pi * (x - 0.01 * i))\n",
    "    line.set_data(x, y)\n",
    "    return line,\n",
    "```\n",
    "Note that again here we return a tuple of the plot objects which have been modified. This tells the animation framework what parts of the plot should be animated.\n",
    "\n",
    "Finally, we create the animation object and pass it to `dispaly_animation` function:\n",
    "```python\n",
    "anim = animation.FuncAnimation(fig, animate, init_func=init,\n",
    "                               frames=100, interval=20, blit=True)\n",
    "display_animation(anim)\n",
    "```\n",
    "This object needs to persist, so it must be assigned to a variable. We've chosen a 100 frame animation with a 20 ms delay between frames. The `blit` keyword is an important one: this tells the animation to only re-draw the pieces of the plot which have changed. The time saved with `blit=True` means that the animations display much more quickly."
   ]
  },
  {
   "cell_type": "markdown",
   "metadata": {},
   "source": [
    "## 4. Drip Drop\n",
    "A very simple rain effect can be obtained by having small growing rings randomly positioned over a figure. Of course, they won't grow forever since the wave is supposed to damp with time. To simulate that, we can use a more and more transparent color as the ring is growing, up to the point where it is no more visible. At this point, we remove the ring and create a new one.\n",
    "\n",
    "First step is to create a blank figure. Next, we need to create several rings. For this, we can use the scatter plot object that is generally used to visualize points cloud, but we can also use it to draw rings by specifying we don't have a facecolor. We have also to take care of initial size and color for each ring such that we have all size between a minimum and a maximum size and also to make sure the largest ring is almost transparent:"
   ]
  },
  {
   "cell_type": "code",
   "execution_count": 13,
   "metadata": {
    "collapsed": false
   },
   "outputs": [
    {
     "data": {
      "text/plain": [
       "((0, 1), [])"
      ]
     },
     "execution_count": 13,
     "metadata": {},
     "output_type": "execute_result"
    }
   ],
   "source": [
    "# New figure with white background\n",
    "fig = plt.figure(figsize=(6,6), facecolor='white')\n",
    "\n",
    "# New axis over the whole figure, no frame and a 1:1 aspect ratio\n",
    "ax = fig.add_axes([0,0,1,1], frameon=False, aspect=1)\n",
    "\n",
    "# Number of ring\n",
    "n = 50\n",
    "size_min = 50\n",
    "size_max = 50*50\n",
    "\n",
    "# Ring position\n",
    "P = np.random.uniform(0,1,(n,2))\n",
    "\n",
    "# Ring colors\n",
    "C = np.ones((n,4)) * (0,0,0,1)\n",
    "# Alpha color channel goes from 0 (transparent) to 1 (opaque)\n",
    "C[:,3] = np.linspace(0,1,n)\n",
    "\n",
    "# Ring sizes\n",
    "S = np.linspace(size_min, size_max, n)\n",
    "\n",
    "# Scatter plot\n",
    "scat = ax.scatter(P[:,0], P[:,1], s=S, lw = 0.5,\n",
    "                  edgecolors = C, facecolors='None')\n",
    "\n",
    "# Ensure limits are [0,1] and remove ticks\n",
    "ax.set_xlim(0,1), ax.set_xticks([])\n",
    "ax.set_ylim(0,1), ax.set_yticks([])"
   ]
  },
  {
   "cell_type": "markdown",
   "metadata": {},
   "source": [
    "Now, we need to write the update function for our animation. We know that at each time step each ring should grow be more transparent while largest ring should be totally transparent and thus removed. Of course, we won't actually remove the largest ring but re-use it to set a new ring at a new random position, with nominal size and color. Hence, we keep the number of ring constant:"
   ]
  },
  {
   "cell_type": "code",
   "execution_count": 14,
   "metadata": {
    "collapsed": true
   },
   "outputs": [],
   "source": [
    "def update(frame):\n",
    "    global P, C, S\n",
    "\n",
    "    # Every ring is made more transparent\n",
    "    C[:,3] = np.maximum(0, C[:,3] - 1.0/n)\n",
    "\n",
    "    # Each ring is made larger\n",
    "    S += (size_max - size_min) / n\n",
    "\n",
    "    # Reset ring specific ring (relative to frame number)\n",
    "    i = frame % 50\n",
    "    P[i] = np.random.uniform(0,1,2)\n",
    "    S[i] = size_min\n",
    "    C[i,3] = 1\n",
    "\n",
    "    # Update scatter object\n",
    "    scat.set_edgecolors(C)\n",
    "    scat.set_sizes(S)\n",
    "    scat.set_offsets(P)\n",
    "\n",
    "    # Return the modified object\n",
    "    return scat,"
   ]
  },
  {
   "cell_type": "markdown",
   "metadata": {},
   "source": [
    "Last step is to tell `matplotlib` to use this function as an update function for the animation and display the result using `display_animation()` function:"
   ]
  },
  {
   "cell_type": "code",
   "execution_count": 6,
   "metadata": {
    "collapsed": false,
    "scrolled": true
   },
   "outputs": [
    {
     "ename": "NameError",
     "evalue": "name 'fig' is not defined",
     "output_type": "error",
     "traceback": [
      "\u001b[1;31m---------------------------------------------------------------------------\u001b[0m",
      "\u001b[1;31mNameError\u001b[0m                                 Traceback (most recent call last)",
      "\u001b[1;32m<ipython-input-6-1ebe3095feee>\u001b[0m in \u001b[0;36m<module>\u001b[1;34m()\u001b[0m\n\u001b[1;32m----> 1\u001b[1;33m \u001b[0manim\u001b[0m \u001b[1;33m=\u001b[0m \u001b[0manimation\u001b[0m\u001b[1;33m.\u001b[0m\u001b[0mFuncAnimation\u001b[0m\u001b[1;33m(\u001b[0m\u001b[0mfig\u001b[0m\u001b[1;33m,\u001b[0m \u001b[0mupdate\u001b[0m\u001b[1;33m,\u001b[0m \u001b[0mframes\u001b[0m\u001b[1;33m=\u001b[0m\u001b[1;36m200\u001b[0m\u001b[1;33m,\u001b[0m \u001b[0minterval\u001b[0m\u001b[1;33m=\u001b[0m\u001b[1;36m10\u001b[0m\u001b[1;33m)\u001b[0m\u001b[1;33m\u001b[0m\u001b[0m\n\u001b[0m\u001b[0;32m      2\u001b[0m \u001b[1;31m#display_animation(anim)\u001b[0m\u001b[1;33m\u001b[0m\u001b[1;33m\u001b[0m\u001b[0m\n\u001b[0;32m      3\u001b[0m \u001b[0mplt\u001b[0m\u001b[1;33m.\u001b[0m\u001b[0mshow\u001b[0m\u001b[1;33m(\u001b[0m\u001b[1;33m)\u001b[0m\u001b[1;33m\u001b[0m\u001b[0m\n",
      "\u001b[1;31mNameError\u001b[0m: name 'fig' is not defined"
     ]
    }
   ],
   "source": [
    "anim = animation.FuncAnimation(fig, update, frames=200, interval=10)\n",
    "#display_animation(anim)\n",
    "plt.show()"
   ]
  },
  {
   "cell_type": "markdown",
   "metadata": {},
   "source": [
    "## 5. Earthquakes\n",
    "We'll now use the rain animation to visualize earthquakes on the planet from the last 30 days. The USGS Earthquake Hazards Program is part of the National Earthquake Hazards Reduction Program (NEHRP) and provides several data on their website. Those data are sorted according to earthquakes magnitude, ranging from significant only down to all earthquakes, major or minor. You would be surprised by the number of minor earthquakes happening every hour on the planet. Since this would represent too much data for us, we'll stick to earthquakes with magnitude > 4.5. At the time of writing, this already represent more than 400 earthquakes in the last 30 days.\n",
    "\n",
    "### 5.1 `urllib` for Reading Remote Data\n",
    "First step is to read and convert data. We'll use the `urllib` library that allows to open and read remote data. Data on the website use the CSV format whose content is given by the first line:\n",
    "\n",
    "```\n",
    "time,latitude,longitude,depth,mag,magType,nst,gap,dmin,rms,net,id,updated,place,type\n",
    "2015-08-17T13:49:17.320Z,37.8365,-122.2321667,4.82,4.01,mw,...\n",
    "2015-08-15T07:47:06.640Z,-10.9045,163.8766,6.35,6.6,mwp,...\n",
    "```\n",
    "We are only interested in latitude, longitude and magnitude and we won't parse time of event.\n",
    "\n",
    "### 5.2 Installing `basemap`\n",
    "Now, we need to draw earth on a figure to show precisely where the earthquake center is and to translate latitude/longitude in some coordinates `matplotlib` can handle. Fortunately, there is the `basemap` project (that tends to be replaced by the more complete `cartopy`) that is really simple to install and to use. Use `conda` to install it:\n",
    "```bash\n",
    "conda install basemap\n",
    "```"
   ]
  },
  {
   "cell_type": "code",
   "execution_count": 30,
   "metadata": {
    "collapsed": false
   },
   "outputs": [],
   "source": [
    "import urllib\n",
    "from mpl_toolkits.basemap import Basemap\n",
    "\n",
    "# -> http://earthquake.usgs.gov/earthquakes/feed/v1.0/csv.php\n",
    "feed = \"http://earthquake.usgs.gov/earthquakes/feed/v1.0/summary/\"\n",
    "\n",
    "# Significant earthquakes in the last 30 days\n",
    "# url = urllib.request.urlopen(feed + \"significant_month.csv\")\n",
    "\n",
    "# Magnitude > 4.5\n",
    "# url = urllib.request.urlopen(feed + \"4.5_month.csv\")\n",
    "\n",
    "# Magnitude > 2.5\n",
    "#url = urllib.request.urlopen(feed + \"2.5_month.csv\")\n",
    "\n",
    "# Magnitude > 1.0\n",
    "url = urllib.request.urlopen(feed + \"1.0_month.csv\")\n",
    "\n",
    "# Reading and storage of data\n",
    "data = url.read().split(b'\\n')[+1:-1]\n",
    "E = np.zeros(len(data), dtype=[('position',  float, 2),\n",
    "                               ('magnitude', float, 1)])\n",
    "\n",
    "for i in range(len(data)):\n",
    "    row = data[i].split(b',')\n",
    "    E['position'][i] = float(row[2]),float(row[1])\n",
    "    E['magnitude'][i] = float(row[4])"
   ]
  },
  {
   "cell_type": "markdown",
   "metadata": {},
   "source": [
    "First step is to define a projection to draw the earth onto a screen (there exists many different projections) and we'll stick to the mill projection which is rather standard for non-specialist. Next, we request to draw coastline and fill continents. The `earth` object will also be used to translate coordinate quite automatically. Last step is to adapt the rain code and put some eye candy. If everything went well, you should obtain something like this (with animation):\n",
    "<img style=\"float: right;\" src=\"images/earthquakes.png\" />"
   ]
  },
  {
   "cell_type": "code",
   "execution_count": 1,
   "metadata": {
    "collapsed": false
   },
   "outputs": [
    {
     "ename": "NameError",
     "evalue": "name 'plt' is not defined",
     "output_type": "error",
     "traceback": [
      "\u001b[1;31m---------------------------------------------------------------------------\u001b[0m",
      "\u001b[1;31mNameError\u001b[0m                                 Traceback (most recent call last)",
      "\u001b[1;32m<ipython-input-1-b661ff066685>\u001b[0m in \u001b[0;36m<module>\u001b[1;34m()\u001b[0m\n\u001b[1;32m----> 1\u001b[1;33m \u001b[0mfig\u001b[0m \u001b[1;33m=\u001b[0m \u001b[0mplt\u001b[0m\u001b[1;33m.\u001b[0m\u001b[0mfigure\u001b[0m\u001b[1;33m(\u001b[0m\u001b[0mfigsize\u001b[0m\u001b[1;33m=\u001b[0m\u001b[1;33m(\u001b[0m\u001b[1;36m14\u001b[0m\u001b[1;33m,\u001b[0m\u001b[1;36m10\u001b[0m\u001b[1;33m)\u001b[0m\u001b[1;33m)\u001b[0m\u001b[1;33m\u001b[0m\u001b[0m\n\u001b[0m\u001b[0;32m      2\u001b[0m \u001b[0max\u001b[0m \u001b[1;33m=\u001b[0m \u001b[0mplt\u001b[0m\u001b[1;33m.\u001b[0m\u001b[0msubplot\u001b[0m\u001b[1;33m(\u001b[0m\u001b[1;36m1\u001b[0m\u001b[1;33m,\u001b[0m\u001b[1;36m1\u001b[0m\u001b[1;33m,\u001b[0m\u001b[1;36m1\u001b[0m\u001b[1;33m)\u001b[0m\u001b[1;33m\u001b[0m\u001b[0m\n\u001b[0;32m      3\u001b[0m \u001b[1;33m\u001b[0m\u001b[0m\n\u001b[0;32m      4\u001b[0m \u001b[0mearth\u001b[0m \u001b[1;33m=\u001b[0m \u001b[0mBasemap\u001b[0m\u001b[1;33m(\u001b[0m\u001b[0mprojection\u001b[0m\u001b[1;33m=\u001b[0m\u001b[1;34m'mill'\u001b[0m\u001b[1;33m)\u001b[0m\u001b[1;33m\u001b[0m\u001b[0m\n\u001b[0;32m      5\u001b[0m \u001b[1;33m\u001b[0m\u001b[0m\n",
      "\u001b[1;31mNameError\u001b[0m: name 'plt' is not defined"
     ]
    }
   ],
   "source": [
    "fig = plt.figure(figsize=(14,10))\n",
    "ax = plt.subplot(1,1,1)\n",
    "\n",
    "earth = Basemap(projection='mill')\n",
    "\n",
    "earth.drawcoastlines(color='0.50', linewidth=0.25)\n",
    "earth.fillcontinents(color='0.95')\n",
    "\n",
    "P = np.zeros(50, dtype=[('position', float, 2),\n",
    "                         ('size',     float, 1),\n",
    "                         ('growth',   float, 1),\n",
    "                         ('color',    float, 4)])\n",
    "scat = ax.scatter(P['position'][:,0], P['position'][:,1], P['size'], lw=0.5,\n",
    "                  edgecolors = P['color'], facecolors='None', zorder=10)\n",
    "\n",
    "def update(frame):\n",
    "    current = frame % len(E)\n",
    "    i = frame % len(P)\n",
    "\n",
    "    P['color'][:,3] = np.maximum(0, P['color'][:,3] - 1.0/len(P))\n",
    "    P['size'] += P['growth']\n",
    "\n",
    "    magnitude = E['magnitude'][current]\n",
    "    P['position'][i] = earth(*E['position'][current])\n",
    "    P['size'][i] = 5\n",
    "    P['growth'][i]= np.exp(magnitude) * 0.1\n",
    "\n",
    "    if magnitude < 6:\n",
    "        P['color'][i]    = 0,0,1,1\n",
    "    else:\n",
    "        P['color'][i]    = 1,0,0,1\n",
    "    scat.set_edgecolors(P['color'])\n",
    "    scat.set_facecolors(P['color']*(1,1,1,0.25))\n",
    "    scat.set_sizes(P['size'])\n",
    "    scat.set_offsets(P['position'])\n",
    "    return scat,\n",
    "\n",
    "anim = animation.FuncAnimation(fig, update, frames=200, interval=10, blit=True)\n",
    "display_animation(anim)"
   ]
  },
  {
   "cell_type": "code",
   "execution_count": null,
   "metadata": {
    "collapsed": true
   },
   "outputs": [],
   "source": []
  }
 ],
 "metadata": {
  "kernelspec": {
   "display_name": "Python 3",
   "language": "python",
   "name": "python3"
  },
  "language_info": {
   "codemirror_mode": {
    "name": "ipython",
    "version": 3
   },
   "file_extension": ".py",
   "mimetype": "text/x-python",
   "name": "python",
   "nbconvert_exporter": "python",
   "pygments_lexer": "ipython3",
   "version": "3.4.3"
  }
 },
 "nbformat": 4,
 "nbformat_minor": 0
}
