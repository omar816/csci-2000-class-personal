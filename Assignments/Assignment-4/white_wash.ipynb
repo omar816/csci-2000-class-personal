{
 "cells": [
  {
   "cell_type": "code",
   "execution_count": 2,
   "metadata": {
    "collapsed": false
   },
   "outputs": [
    {
     "ename": "ImportError",
     "evalue": "No module named 'colormap'",
     "output_type": "error",
     "traceback": [
      "\u001b[1;31m---------------------------------------------------------------------------\u001b[0m",
      "\u001b[1;31mImportError\u001b[0m                               Traceback (most recent call last)",
      "\u001b[1;32m<ipython-input-2-7576c2d755c3>\u001b[0m in \u001b[0;36m<module>\u001b[1;34m()\u001b[0m\n\u001b[0;32m      2\u001b[0m \u001b[1;31m#100523629\u001b[0m\u001b[1;33m\u001b[0m\u001b[1;33m\u001b[0m\u001b[0m\n\u001b[0;32m      3\u001b[0m \u001b[1;33m\u001b[0m\u001b[0m\n\u001b[1;32m----> 4\u001b[1;33m \u001b[1;32mfrom\u001b[0m \u001b[0mcolormap\u001b[0m \u001b[1;32mimport\u001b[0m \u001b[0mColor\u001b[0m\u001b[1;33m\u001b[0m\u001b[0m\n\u001b[0m",
      "\u001b[1;31mImportError\u001b[0m: No module named 'colormap'"
     ]
    }
   ],
   "source": [
    "#Omar Khan\n",
    "#100523629\n",
    "\n"
   ]
  },
  {
   "cell_type": "code",
   "execution_count": null,
   "metadata": {
    "collapsed": false
   },
   "outputs": [],
   "source": [
    "import pylab as plt\n",
    "\n",
    "def WhiteWash():\n",
    "    m = int(input(\"Enter a number: \"))\n",
    "    if m != 0:\n",
    "        if m!= 1:\n",
    "            print(\"number must be 0 or 1\")\n",
    "        else:\n",
    "            print(\"Good Number!\")\n",
    "    else:\n",
    "        print (\"Good number!\")\n",
    "    list = []\n",
    "    line = np.genfromtxt('temp.txt', usecols=3, dtype=[('floatname','float')], skip_header=1)\n",
    "    list.append(line)\n",
    "    \n",
    "    for iterating_var in sequence:\n",
    "        for iterating_var in sequence:\n",
    "            cdict+1/2(s)\n",
    "        cdict+1/2(s)\n",
    "    \n",
    "    \n",
    "    cdict = {'red': ((0.0, 1.0, 1.0),\n",
    "                 (1.0, 0.0, 0.0)),\n",
    "         'green': ((0.0, 0.0, 0.0),\n",
    "                   (1.0, 1.0, 1.0)),\n",
    "         'blue': ((0.0, 0.0, 0.0),\n",
    "                  (1.0, 0.0, 0.0))}\n",
    "\n",
    "    my_cmap = plt.matplotlib.colors.LinearSegmentedColormap('my_colormap',cdict,256)\n",
    "    plt.pcolor(plt.rand(10,10),cmap=my_cmap)\n",
    "    plt.colorbar()\n",
    "    plt.show()\n",
    "WhiteWash()"
   ]
  },
  {
   "cell_type": "code",
   "execution_count": null,
   "metadata": {
    "collapsed": true
   },
   "outputs": [],
   "source": [
    "#define function whitewash\n",
    "#function takes 1 argument\n",
    "#the argunment is a list of lists\n",
    "#create a loop through all the lists and a nested loop that goes from 0-2 for each color in the color map\n",
    "#first loop looks at each list and nested loop looks at each element in the in the current list\n",
    "#nested loop takes the averageof the current element and 1(the id of white)\n",
    "#return orginal argument\n",
    "\n",
    "#error:my computer can't find colormap"
   ]
  }
 ],
 "metadata": {
  "kernelspec": {
   "display_name": "Python 3",
   "language": "python",
   "name": "python3"
  },
  "language_info": {
   "codemirror_mode": {
    "name": "ipython",
    "version": 3
   },
   "file_extension": ".py",
   "mimetype": "text/x-python",
   "name": "python",
   "nbconvert_exporter": "python",
   "pygments_lexer": "ipython3",
   "version": "3.4.3"
  }
 },
 "nbformat": 4,
 "nbformat_minor": 0
}
