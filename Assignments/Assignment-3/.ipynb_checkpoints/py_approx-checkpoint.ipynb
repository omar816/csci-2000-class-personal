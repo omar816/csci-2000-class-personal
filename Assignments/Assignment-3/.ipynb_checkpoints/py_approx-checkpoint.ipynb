{
 "cells": [
  {
   "cell_type": "code",
   "execution_count": 5,
   "metadata": {
    "collapsed": false
   },
   "outputs": [
    {
     "name": "stdout",
     "output_type": "stream",
     "text": [
      "When n = 10, rho_n = 3.041840\n",
      "When n = 100, rho_n = 3.131593\n",
      "When n = 1000, rho_n = 3.140593\n",
      "When n = 10000, rho_n = 3.141493\n",
      "When n = 100000, rho_n = 3.141583\n",
      "When n = 1000000, rho_n = 3.141592\n"
     ]
    }
   ],
   "source": [
    "n=[10,100,1000,10000,100000,1000000]\n",
    "for l in range(0,6):\n",
    "    f=0\n",
    "    k=1\n",
    "    for k in range(1,n[l]+1):\n",
    "        m=(-1)**(k+1)\n",
    "        p=(2*k)-1\n",
    "        j=m/p\n",
    "        f=f+j\n",
    "    print('When n = %d, rho_n = %f' % ((n[l]), f*4))"
   ]
  },
  {
   "cell_type": "code",
   "execution_count": 12,
   "metadata": {
    "collapsed": false
   },
   "outputs": [
    {
     "name": "stdout",
     "output_type": "stream",
     "text": [
      "When n = 10, tau_n = 3.039508\n",
      "When n = 100, tau_n = 3.131981\n",
      "When n = 1000, tau_n = 3.140637\n",
      "When n = 10000, tau_n = 3.141497\n",
      "When n = 100000, tau_n = 3.141583\n",
      "When n = 1000000, tau_n = 3.141592\n"
     ]
    }
   ],
   "source": [
    "n=[10,100,1000,10000,100000,1000000]\n",
    "for l in range(0,6):\n",
    "    f=0\n",
    "    k=1\n",
    "    b=0\n",
    "    for k in range(1,n[l]):\n",
    "        a=1/(k**2)\n",
    "        b=b+a\n",
    "        c=((b*6)**(1/2))\n",
    "    print('When n = %d, tau_n = %f' % ((n[l]), c))"
   ]
  },
  {
   "cell_type": "code",
   "execution_count": 15,
   "metadata": {
    "collapsed": false
   },
   "outputs": [
    {
     "name": "stdout",
     "output_type": "stream",
     "text": [
      "When n = 10, mu_n = 3.141312\n",
      "When n = 100, mu_n = 3.141592\n",
      "When n = 1000, mu_n = 3.141593\n",
      "When n = 10000, mu_n = 3.141593\n",
      "When n = 100000, mu_n = 3.141593\n",
      "When n = 1000000, mu_n = 3.141593\n"
     ]
    }
   ],
   "source": [
    "n=[10,100,1000,10000,100000,1000000]\n",
    "for l in range(0,6):\n",
    "    f=0\n",
    "    k=1\n",
    "    x=0\n",
    "    for k in range(1,n[l]):\n",
    "        z=1/(k**4)\n",
    "        x=x+z\n",
    "        y=((x*90)**(1/4))\n",
    "    print('When n = %d, mu_n = %f' % ((n[l]), y))"
   ]
  },
  {
   "cell_type": "code",
   "execution_count": null,
   "metadata": {
    "collapsed": true
   },
   "outputs": [],
   "source": []
  }
 ],
 "metadata": {
  "kernelspec": {
   "display_name": "Python 3",
   "language": "python",
   "name": "python3"
  },
  "language_info": {
   "codemirror_mode": {
    "name": "ipython",
    "version": 3
   },
   "file_extension": ".py",
   "mimetype": "text/x-python",
   "name": "python",
   "nbconvert_exporter": "python",
   "pygments_lexer": "ipython3",
   "version": "3.4.3"
  }
 },
 "nbformat": 4,
 "nbformat_minor": 0
}
