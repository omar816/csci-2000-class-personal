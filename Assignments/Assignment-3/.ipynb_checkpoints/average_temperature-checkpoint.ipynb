{
 "cells": [
  {
   "cell_type": "code",
   "execution_count": 43,
   "metadata": {
    "collapsed": false
   },
   "outputs": [
    {
     "name": "stdout",
     "output_type": "stream",
     "text": [
      "[ -7.4  -4.7   3.1   6.8  15.9  20.   22.3  22.2  16.   10.8   0.5  -3.5]\n",
      "[ -1.7  -0.3   6.7   7.3  16.6  20.6  24.3  21.6  16.4  10.2   3.5   0.8]\n",
      "[  3.6   4.8   5.6   9.6  12.2  14.3  17.7  19.   15.4  10.5   7.2   4.4]\n"
     ]
    }
   ],
   "source": [
    "#import cvs\n",
    "import numpy as np\n",
    "import matplotlib.pyplot as plt\n",
    "\n",
    "data1 = np.loadtxt(\"montreal_temperature_2012.dat\")\n",
    "#the data has increasing temperatures, starting from a cold(-7.4) \n",
    "#to the middle of the year (max 22.3) and goes back down to a cold -3.5\n",
    "data2 = np.loadtxt(\"toronto_temperature_2012.dat\")\n",
    "#the data has increasing temperatures, starting from a chilly(-1.7) \n",
    "#to the middle of the year, a hot (max 24.3) and goes back down to a chilly 0.8\n",
    "data3 = np.loadtxt(\"vancouver_temperature_2012.dat\")\n",
    "#the data has increasing temperatures, starting from a breezy(3.6) \n",
    "#to the middle of the year (max 19) and goes back down to a breezy-chilly 4.4\n",
    "\n",
    "print(data1)\n",
    "print(data2)\n",
    "print(data3)\n",
    "\n",
    "plt.plot(data1, label='Montreal')\n",
    "plt.plot(data2, label='Toronto')\n",
    "plt.plot(data3, label='Vancouver')\n",
    "plt.xlabel('Month')\n",
    "plt.ylabel('Average monthly Temperature (Celcius)')\n",
    "plt.title('2012 average monthly temperatures (100523629)')\n",
    "plt.legend()\n",
    "plt.show()"
   ]
  },
  {
   "cell_type": "code",
   "execution_count": 27,
   "metadata": {
    "collapsed": false
   },
   "outputs": [],
   "source": []
  },
  {
   "cell_type": "code",
   "execution_count": null,
   "metadata": {
    "collapsed": true
   },
   "outputs": [],
   "source": []
  }
 ],
 "metadata": {
  "kernelspec": {
   "display_name": "Python 3",
   "language": "python",
   "name": "python3"
  },
  "language_info": {
   "codemirror_mode": {
    "name": "ipython",
    "version": 3
   },
   "file_extension": ".py",
   "mimetype": "text/x-python",
   "name": "python",
   "nbconvert_exporter": "python",
   "pygments_lexer": "ipython3",
   "version": "3.4.3"
  }
 },
 "nbformat": 4,
 "nbformat_minor": 0
}
