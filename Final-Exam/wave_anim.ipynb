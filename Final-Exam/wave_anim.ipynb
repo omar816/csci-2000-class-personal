{
 "cells": [
  {
   "cell_type": "code",
   "execution_count": 1,
   "metadata": {
    "collapsed": true
   },
   "outputs": [],
   "source": [
    "%matplotlib inline"
   ]
  },
  {
   "cell_type": "code",
   "execution_count": 2,
   "metadata": {
    "collapsed": true
   },
   "outputs": [],
   "source": [
    "import numpy as np\n",
    "import matplotlib.pyplot as plt\n",
    "import matplotlib.animation as animation\n",
    "from JSAnimation.IPython_display import display_animation"
   ]
  },
  {
   "cell_type": "code",
   "execution_count": 8,
   "metadata": {
    "collapsed": false
   },
   "outputs": [
    {
     "ename": "SyntaxError",
     "evalue": "can't assign to operator (<ipython-input-8-70e835e5cfd6>, line 10)",
     "output_type": "error",
     "traceback": [
      "\u001b[1;36m  File \u001b[1;32m\"<ipython-input-8-70e835e5cfd6>\"\u001b[1;36m, line \u001b[1;32m10\u001b[0m\n\u001b[1;33m    u*(x or t) = f*(x-(c*t))\u001b[0m\n\u001b[1;37m    ^\u001b[0m\n\u001b[1;31mSyntaxError\u001b[0m\u001b[1;31m:\u001b[0m can't assign to operator\n"
     ]
    }
   ],
   "source": [
    "fig = plt.figure()\n",
    "ax = plt.axes(xlim=(0, 2), ylim=(-2, 2))\n",
    "line, = ax.plot([], [], lw=2)\n",
    "\n",
    "def func():\n",
    "    int(u=0)\n",
    "    int(x=0)\n",
    "    int(c=0)\n",
    "    int(t=0)\n",
    "    u*(x or t) = f*(x-(c*t))\n",
    "# initialization function: plot the background of each frame\n",
    "def init():\n",
    "    line.set_data([], [])\n",
    "    return line,\n",
    "\n",
    "# animation function.  This is called sequentially\n",
    "def animate(i):\n",
    "    x = np.linspace(0, 2, 1000)\n",
    "    y = np.sin(2 * np.pi * (x - 0.01 * i))\n",
    "    line.set_data(x, y)\n",
    "    return line,\n",
    "\n",
    "# call the animator.  blit=True means only re-draw the parts that have changed.\n",
    "anim = animation.FuncAnimation(fig, animate, init_func=init,\n",
    "                               frames=200, interval=20, blit=True)\n",
    "display_animation(anim)"
   ]
  },
  {
   "cell_type": "code",
   "execution_count": 9,
   "metadata": {
    "collapsed": false
   },
   "outputs": [
    {
     "ename": "IndentationError",
     "evalue": "unindent does not match any outer indentation level (<ipython-input-9-1d4d96cfd863>, line 6)",
     "output_type": "error",
     "traceback": [
      "\u001b[1;36m  File \u001b[1;32m\"<ipython-input-9-1d4d96cfd863>\"\u001b[1;36m, line \u001b[1;32m6\u001b[0m\n\u001b[1;33m    return animation.FuncAnimation(fig, animate, init_func=init,\u001b[0m\n\u001b[1;37m                                                                ^\u001b[0m\n\u001b[1;31mIndentationError\u001b[0m\u001b[1;31m:\u001b[0m unindent does not match any outer indentation level\n"
     ]
    }
   ],
   "source": [
    "def animate(i):\n",
    "        y = np.cos(i * 0.02 * np.pi) * np.sin(x - i * 0.02 * np.pi)\n",
    "        line.set_data(x, y)\n",
    "        return line,\n",
    "\n",
    "    return animation.FuncAnimation(fig, animate, init_func=init,\n",
    "                                   frames=frames, interval=interval)\n",
    "\n",
    "\n",
    "def lorenz_animation(N_trajectories=20, rseed=1, frames=200, interval=30):\n",
    "    from scipy import integrate\n",
    "    from mpl_toolkits.mplot3d import Axes3D\n",
    "    from matplotlib.colors import cnames\n",
    "\n",
    "    def lorentz_deriv(coords, t0, sigma=10., beta=8./3, rho=28.0):\n",
    "        x, y, z = coords\n",
    "        return [sigma * (y - x), x * (rho - z) - y, x * y - beta * z]\n",
    "\n",
    "    np.random.seed(rseed)\n",
    "    x0 = -15 + 30 * np.random.random((N_trajectories, 3))\n",
    "\n",
    "    t = np.linspace(0, 2, 500)\n",
    "    x_t = np.asarray([integrate.odeint(lorentz_deriv, x0i, t)\n",
    "                      for x0i in x0])\n",
    "\n",
    "    fig = plt.figure()\n",
    "    ax = fig.add_axes([0, 0, 1, 1], projection='3d')\n",
    "    ax.axis('off')\n",
    "\n",
    "    colors = plt.cm.jet(np.linspace(0, 1, N_trajectories))\n",
    "\n",
    "    lines = sum([ax.plot([], [], [], '-', c=c)\n",
    "                 for c in colors], [])\n",
    "    pts = sum([ax.plot([], [], [], 'o', c=c, ms=4)\n",
    "               for c in colors], [])\n",
    "\n",
    "    ax.set_xlim((-25, 25))\n",
    "    ax.set_ylim((-35, 35))\n",
    "    ax.set_zlim((5, 55))\n",
    "\n",
    "    ax.view_init(30, 0)\n",
    "\n",
    "    def init():\n",
    "        for line, pt in zip(lines, pts):\n",
    "            line.set_data([], [])\n",
    "            line.set_3d_properties([])\n",
    "\n",
    "            pt.set_data([], [])\n",
    "            pt.set_3d_properties([])\n",
    "        return lines + pts\n",
    "\n",
    "    def animate(i):\n",
    "        i = (2 * i) % x_t.shape[1]\n",
    "\n",
    "        for line, pt, xi in zip(lines, pts, x_t):\n",
    "            x, y, z = xi[:i + 1].T\n",
    "            line.set_data(x, y)\n",
    "            line.set_3d_properties(z)\n",
    "\n",
    "            pt.set_data(x[-1:], y[-1:])\n",
    "            pt.set_3d_properties(z[-1:])\n",
    "\n",
    "        ax.view_init(30, 0.3 * i)\n",
    "        fig.canvas.draw()\n",
    "        return lines + pts\n",
    "\n",
    "    return animation.FuncAnimation(fig, animate, init_func=init,\n",
    "                                   frames=frames, interval=interval)\n"
   ]
  },
  {
   "cell_type": "code",
   "execution_count": null,
   "metadata": {
    "collapsed": true
   },
   "outputs": [],
   "source": []
  }
 ],
 "metadata": {
  "kernelspec": {
   "display_name": "Python 3",
   "language": "python",
   "name": "python3"
  },
  "language_info": {
   "codemirror_mode": {
    "name": "ipython",
    "version": 3
   },
   "file_extension": ".py",
   "mimetype": "text/x-python",
   "name": "python",
   "nbconvert_exporter": "python",
   "pygments_lexer": "ipython3",
   "version": "3.4.3"
  }
 },
 "nbformat": 4,
 "nbformat_minor": 0
}
